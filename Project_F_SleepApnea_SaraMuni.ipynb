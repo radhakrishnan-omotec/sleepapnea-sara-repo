{
  "cells": [
    {
      "cell_type": "markdown",
      "metadata": {
        "id": "view-in-github",
        "colab_type": "text"
      },
      "source": [
        "<a href=\"https://colab.research.google.com/github/radhakrishnan-omotec/sleepapnea-sara-repo/blob/main/Project_F_SleepApnea_SaraMuni.ipynb\" target=\"_parent\"><img src=\"https://colab.research.google.com/assets/colab-badge.svg\" alt=\"Open In Colab\"/></a>"
      ]
    },
    {
      "cell_type": "markdown",
      "source": [
        "# SleepApnea using CSV File\n",
        "\n",
        "### Author : SaraMuni"
      ],
      "metadata": {
        "id": "E7J2ezv0DhPq"
      },
      "id": "E7J2ezv0DhPq"
    },
    {
      "cell_type": "markdown",
      "id": "dc0c13dd",
      "metadata": {
        "papermill": {
          "duration": 0.024782,
          "end_time": "2023-08-22T00:00:59.641810",
          "exception": false,
          "start_time": "2023-08-22T00:00:59.617028",
          "status": "completed"
        },
        "tags": [],
        "id": "dc0c13dd"
      },
      "source": [
        "<div style = 'border : 3px solid lightblue; background-color:#EBDEF0 ; ;padding:10px'>\n",
        "\n",
        "# Table of Contents\n",
        "\n",
        "* **[1.The purpose of the project 🔐](#1)**\n",
        "\n",
        "  - A simple definition of the idea of ​​the project\n",
        "   \n",
        "   \n",
        "* **[2.Data features 🌐](#2)**\n",
        "\n",
        "  - Definition of features of data\n",
        "  \n",
        "  \n",
        "* **[3.Importing libraries ⏳](#3)**  \n",
        "\n",
        "   - Recall the most important libraries which we needed\n",
        "   \n",
        "   \n",
        "* **[4.Reading data 📖](#4)**\n",
        "\n",
        "   - This is an important step to know dataset quickly and start organizing ideas\n",
        "   \n",
        "   \n",
        "* **[5.Statistical information 🔍](#5)**\n",
        "\n",
        "   - Data shape\n",
        "   \n",
        "   - Detect empty and type of values\n",
        "   \n",
        "   - Statistical understanding of the data\n",
        "   \n",
        "   \n",
        "* **[6.Exploratory Data Analysis *(EDA)*📊](#6)**\n",
        "    \n",
        "   - knowing the column names\n",
        "\n",
        "   - Knowledge of information through data and its representation in graphs\n",
        "   \n",
        "   - Know the parts that are not clear in the data in its normal form\n",
        "   \n",
        "   \n",
        "* **[7.Data preprocessing 🛠️](#7)**\n",
        "\n",
        "  - Finding and cleaning null values\n",
        "  \n",
        "  - Data encoding\n",
        "  \n",
        "  - Data correlations\n",
        "  \n",
        "  - Data splitting\n",
        "\n",
        "* **[8. Data modeling ⚙️](#8)**\n",
        "\n",
        "  - Build many models\n",
        "  \n",
        "\n",
        "* **[9. Models evaluation 📝](#9)**\n",
        "\n",
        "  - Using confusion matrix\n",
        "\n",
        "* **[10. Interpretation one model 🏆](#10)**\n",
        "    \n",
        "    - Using shap\n",
        "    \n",
        "  "
      ]
    },
    {
      "cell_type": "markdown",
      "id": "832e6ab9",
      "metadata": {
        "papermill": {
          "duration": 0.024523,
          "end_time": "2023-08-22T00:00:59.890456",
          "exception": false,
          "start_time": "2023-08-22T00:00:59.865933",
          "status": "completed"
        },
        "tags": [],
        "id": "832e6ab9"
      },
      "source": [
        "<div style = 'border : 3px solid lightblue; background-color:#EBDEF0;color:black;padding:10px'>\n",
        "\n",
        "**Person ID**: An identifier for each individual.\n",
        "    \n",
        "**Gender**: The gender of the person (Male/Female).\n",
        "    \n",
        "**Age**: The age of the person in years.\n",
        "    \n",
        "**Occupation**: The occupation or profession of the person.\n",
        "    \n",
        "**Sleep Duration (hours)**: The number of hours the person sleeps per day.\n",
        "    \n",
        "**Quality of Sleep (scale**: 1-10): A subjective rating of the quality of sleep, ranging from 1 to 10.\n",
        "    \n",
        "**Physical Activity Level (minutes/day)**: The number of minutes the person engages in physical activity daily.\n",
        "    \n",
        "**Stress Level (scale: 1-10)**: A subjective rating of the stress level experienced by the person, ranging from 1 to 10.\n",
        "    \n",
        "**BMI Category**: The BMI category of the person (e.g., Underweight, Normal, Overweight).\n",
        "    \n",
        "**Blood Pressure (systolic/diastolic)**: The blood pressure measurement of the person, indicated as systolic pressure over diastolic pressure.\n",
        "    \n",
        "**Heart Rate (bpm)**: The resting heart rate of the person in beats per minute.\n",
        "    \n",
        "**Daily Steps**: The number of steps the person takes per day.\n",
        "    \n",
        "**Sleep Disorder**: The presence or absence of a sleep disorder in the person (None, Insomnia, Sleep Apnea)."
      ]
    },
    {
      "cell_type": "code",
      "source": [
        "!git clone https://github.com/radhakrishnan-omotec/sleepapnea-sara-repo.git"
      ],
      "metadata": {
        "colab": {
          "base_uri": "https://localhost:8080/"
        },
        "id": "ylBU7MCUFLSR",
        "outputId": "b15761da-7632-4574-c9f1-0992dbe1bd2f"
      },
      "id": "ylBU7MCUFLSR",
      "execution_count": null,
      "outputs": [
        {
          "output_type": "stream",
          "name": "stdout",
          "text": [
            "Cloning into 'sleepapnea-sara-repo'...\n",
            "remote: Enumerating objects: 27, done.\u001b[K\n",
            "remote: Counting objects: 100% (27/27), done.\u001b[K\n",
            "remote: Compressing objects: 100% (26/26), done.\u001b[K\n",
            "remote: Total 27 (delta 9), reused 0 (delta 0), pack-reused 0 (from 0)\u001b[K\n",
            "Receiving objects: 100% (27/27), 1.30 MiB | 4.17 MiB/s, done.\n",
            "Resolving deltas: 100% (9/9), done.\n"
          ]
        }
      ]
    },
    {
      "cell_type": "markdown",
      "source": [
        "---\n",
        "---\n"
      ],
      "metadata": {
        "id": "sdCRy-0RXXoX"
      },
      "id": "sdCRy-0RXXoX"
    },
    {
      "cell_type": "markdown",
      "source": [
        "# Updated Python Notebook: Sleep Apnea Prediction with Sara Muni Finalized Variables"
      ],
      "metadata": {
        "id": "rhVfEavNXZMh"
      },
      "id": "rhVfEavNXZMh"
    },
    {
      "cell_type": "markdown",
      "source": [
        "# Step 1. The Purpose of the Project 🔐\n",
        "\n",
        "The purpose remains largely unchanged but is updated to reflect the new variables:\n",
        "<div style='border: 3px solid lightblue; background-color:#EBDEF0; color:black; padding:10px'>\n",
        "\n",
        "🔘 **Problem**: Sleep apnea is a common sleep disorder affecting many individuals, disrupting sleep quality and overall health. Identifying those at risk using accessible data is crucial for timely intervention.\n",
        "\n",
        "🔘 **Solution**: This project uses machine learning to predict sleep apnea based on 23 features (plus the target variable `Sleep Apnea`) collected from individuals, such as gender, age group, sleep duration, and lifestyle factors. Models are trained and evaluated to classify individuals as having sleep apnea or not.\n",
        "\n",
        "</div>\n"
      ],
      "metadata": {
        "id": "0zXDEgPkBTF-"
      },
      "id": "0zXDEgPkBTF-"
    },
    {
      "cell_type": "markdown",
      "source": [
        "# 2. Data Features 🌐"
      ],
      "metadata": {
        "id": "xZNi6br4YERF"
      },
      "id": "xZNi6br4YERF"
    },
    {
      "cell_type": "markdown",
      "source": [
        "### The dataset now consists of the following 24 variables (23 features + 1 target). '\n",
        "**Here’s a description of each:**\n",
        "\n",
        "<div style='border: 3px solid lightblue; background-color:#EBDEF0; color:black; padding:10px'>\n",
        "\n",
        "🔘 What is your occupation? (Occupation): Categorical, e.g., Doctor, Engineer, etc.\n",
        "\n",
        "\n",
        "🔘 On average, how many hours do you sleep per night? (Sleep_Duration): Numerical, hours slept.\n",
        "\n",
        "\n",
        "🔘 How would you rate the quality of your sleep on a scale of 1 to 10? (Sleep_Quality): Numerical (1-10), ordinal.\n",
        "\n",
        "\n",
        "🔘 How would you describe your physical activity level?\n",
        "(Physical_Activity_Level): Categorical, e.g., Low, Medium, High.\n",
        "\n",
        "\n",
        "🔘 How would you rate your stress level on a scale of 1 to 10? (Stress_Level): Numerical (1-10), ordinal.\n",
        "\n",
        "\n",
        "🔘 What is your BMI category? (BMI_Category): Categorical, e.g., Normal, 🔘 Overweight, Obese.\n",
        "\n",
        "\n",
        "🔘 What is your blood pressure category? (Blood_Pressure_Category): Categorical, e.g., Normal, High.\n",
        "\n",
        "\n",
        "🔘 What is your resting heart rate? (Resting_Heart_Rate): Numerical, beats per minute.\n",
        "\n",
        "\n",
        "🔘 On average, how many steps do you take per day? (Daily_Steps): Numerical, steps.\n",
        "\n",
        "\n",
        "🔘 If you have sleep apnea, what is the mean duration of apnea-hypopnea events? (Mean_Apnea_Duration): Numerical, seconds (0 if no apnea).\n",
        "\n",
        "\n",
        "🔘 Do you have either of the sleep disorders below? (Sleep_Disorders): Categorical, Yes/No (assumed to exclude sleep apnea).\n",
        "\n",
        "\n",
        "🔘 How many cigarettes do you smoke per day? (Cigarettes_Per_Day): Numerical, cigarettes.\n",
        "\n",
        "\n",
        "🔘 What is your neck thickness? (Neck_Thickness): Numerical, cm.\n",
        "\n",
        "\n",
        "🔘 How would you describe your tongue size? (Tongue_Size): Categorical, e.g., Small, Medium, Large.\n",
        "\n",
        "\n",
        "🔘 Do you use any muscle-relaxing substances? (Muscle_Relaxing_Substances): Categorical, Yes/No.\n",
        "\n",
        "\n",
        "🔘 What is your smoking habit? (Smoking_Habit): Categorical, e.g., Never, Current, Former.\n",
        "\n",
        "\n",
        "🔘 Is there a family history of sleep apnea? (Family_History_Sleep_Apnea): Categorical, Yes/No.\n",
        "\n",
        "\n",
        "🔘 Have you had a stroke in the past? (Past_Stroke): Categorical, Yes/No.\n",
        "\n",
        "\n",
        "🔘 What is your status regarding type 2 diabetes? (Type_2_Diabetes): Categorical, Yes/No.\n",
        "\n",
        "\n",
        "🔘 What is your status regarding type 1 Diabetes? (Type_1_Diabetes): Categorical, Yes/No.\n",
        "\n",
        "\n",
        "🔘 Subject Occupation: Ignored as it seems redundant with \"What is your occupation?\" (assumed typo).\n",
        "\n",
        "\n",
        "🔘 Sleep Apnea: Target variable, Categorical, Yes/No.\n",
        "\n",
        "\n",
        "**Note: The variable Subject Occupation is excluded as it appears to duplicate Occupation, reducing the feature count to 22 plus the target.**\n",
        "</div>\n"
      ],
      "metadata": {
        "id": "7u49uZxoYFRD"
      },
      "id": "7u49uZxoYFRD"
    },
    {
      "cell_type": "markdown",
      "source": [
        "# 3. Importing Libraries ⏳"
      ],
      "metadata": {
        "id": "-i67EK03ZJHG"
      },
      "id": "-i67EK03ZJHG"
    },
    {
      "cell_type": "markdown",
      "source": [
        "Update the libraries to include all necessary tools:"
      ],
      "metadata": {
        "id": "qUNb8j4LZLyZ"
      },
      "id": "qUNb8j4LZLyZ"
    },
    {
      "cell_type": "code",
      "source": [
        "import pandas as pd\n",
        "import numpy as np\n",
        "import seaborn as sns\n",
        "import matplotlib.pyplot as plt\n",
        "from sklearn.model_selection import train_test_split\n",
        "from sklearn.preprocessing import StandardScaler, LabelEncoder\n",
        "from sklearn.ensemble import RandomForestClassifier\n",
        "from sklearn.linear_model import LogisticRegression\n",
        "from sklearn.svm import SVC\n",
        "from xgboost import XGBClassifier\n",
        "from sklearn.metrics import accuracy_score, confusion_matrix\n",
        "import shap"
      ],
      "metadata": {
        "id": "90GtAUaHZNOa"
      },
      "id": "90GtAUaHZNOa",
      "execution_count": null,
      "outputs": []
    },
    {
      "cell_type": "markdown",
      "source": [
        "#4. Reading Data 📖\n",
        "\n",
        "Load the new dataset (assumed to be a CSV with the specified columns):"
      ],
      "metadata": {
        "id": "rcq1JUgTZOZ9"
      },
      "id": "rcq1JUgTZOZ9"
    },
    {
      "cell_type": "code",
      "source": [
        "# Load the new dataset\n",
        "df = pd.read_csv(\"Sara_Random_Final-CHATGPT.csv\")  # Replace with actual path"
      ],
      "metadata": {
        "id": "Q7td13nAZV9u"
      },
      "id": "Q7td13nAZV9u",
      "execution_count": null,
      "outputs": []
    },
    {
      "cell_type": "markdown",
      "source": [
        "**Assumption**: The CSV column names match the questions (e.g., \"What is your gender?\" or simplified as \"Gender\"). Adjust column names if necessary."
      ],
      "metadata": {
        "id": "LEamb_ZWZdf2"
      },
      "id": "LEamb_ZWZdf2"
    },
    {
      "cell_type": "markdown",
      "source": [
        "#5. Statistical Information 🔍\n",
        "\n",
        "Display dataset shape, null values, and summary statistics:"
      ],
      "metadata": {
        "id": "ywXlM6BAZjHu"
      },
      "id": "ywXlM6BAZjHu"
    },
    {
      "cell_type": "code",
      "source": [
        "print(\"Dataset Shape:\", df.shape)\n",
        "print(\"\\nNull Values:\\n\", df.isnull().sum())\n",
        "print(\"\\nSummary Statistics:\\n\", df.describe())"
      ],
      "metadata": {
        "id": "jqiBNjFBZgvG"
      },
      "id": "jqiBNjFBZgvG",
      "execution_count": null,
      "outputs": []
    },
    {
      "cell_type": "markdown",
      "source": [
        "# 6. Exploratory Data Analysis (EDA) 📊\n",
        "\n",
        "Explore the new variables with visualizations:"
      ],
      "metadata": {
        "id": "Jd5XIoqOZnMf"
      },
      "id": "Jd5XIoqOZnMf"
    },
    {
      "cell_type": "code",
      "source": [
        "# Column names (simplified for coding)\n",
        "columns = [\n",
        "    'Subject Occupation', 'Sleep_Duration', 'Sleep_Quality',\n",
        "    'Physical_Activity_Level', 'Stress_Level', 'BMI_Category', 'Blood_Pressure_Category',\n",
        "    'Resting_Heart_Rate', 'Daily_Steps', 'Mean_Apnea_Duration', 'Sleep_Disorders',\n",
        "    'Cigarettes_Per_Day', 'Neck_Thickness', 'Tongue_Size', 'Muscle_Relaxing_Substances',\n",
        "    'Smoking_Habit', 'Family_History_Sleep_Apnea', 'Past_Stroke', 'Type_2_Diabetes',\n",
        "    'Type_1_Diabetes', 'Sleep_Apnea'\n",
        "]\n",
        "\n",
        "# Numerical and categorical columns\n",
        "numerical_cols = ['Sleep_Duration', 'Sleep_Quality', 'Stress_Level', 'Resting_Heart_Rate',\n",
        "                  'Daily_Steps', 'Cigarettes_Per_Day', 'Neck_Thickness', 'Mean_Apnea_Duration']\n",
        "categorical_cols = [col for col in columns if col not in numerical_cols and col != 'Sleep_Apnea']\n",
        "\n",
        "# Histograms for numerical variables\n",
        "df[numerical_cols].hist(figsize=(12, 10))\n",
        "plt.tight_layout()\n",
        "plt.show()\n",
        "\n",
        "# Bar plot for target variable\n",
        "sns.countplot(x='Sleep_Apnea', data=df)\n",
        "plt.title(\"Distribution of Sleep Apnea\")\n",
        "plt.show()\n",
        "\n",
        "# Correlation matrix for numerical variables\n",
        "corr = df[numerical_cols].corr()\n",
        "sns.heatmap(corr, annot=True, cmap='coolwarm')\n",
        "plt.title(\"Correlation Matrix\")\n",
        "plt.show()"
      ],
      "metadata": {
        "id": "nEqQ5hJBZqtP"
      },
      "id": "nEqQ5hJBZqtP",
      "execution_count": null,
      "outputs": []
    },
    {
      "cell_type": "markdown",
      "source": [
        "# 7. Data Preprocessing 🛠️\n",
        "\n",
        "Preprocess the data by handling missing values, encoding categorical variables, and splitting:"
      ],
      "metadata": {
        "id": "jsFCDliKZzEP"
      },
      "id": "jsFCDliKZzEP"
    },
    {
      "cell_type": "code",
      "source": [
        "# Handle missing values\n",
        "df['Mean_Apnea_Duration'].fillna(0, inplace=True)  # 0 for no apnea\n",
        "for col in df.columns:\n",
        "    if col in numerical_cols and col != 'Mean_Apnea_Duration':\n",
        "        df[col].fillna(df[col].median(), inplace=True)\n",
        "    elif col in categorical_cols:\n",
        "        df[col].fillna(df[col].mode()[0], inplace=True)\n",
        "\n",
        "# Encode categorical variables\n",
        "df_encoded = pd.get_dummies(df, columns=categorical_cols, drop_first=True)\n",
        "\n",
        "# Encode target variable\n",
        "le = LabelEncoder()\n",
        "df_encoded['Sleep_Apnea'] = le.fit_transform(df['Sleep_Apnea'])\n",
        "\n",
        "# Split features and target\n",
        "X = df_encoded.drop('Sleep_Apnea', axis=1)\n",
        "y = df_encoded['Sleep_Apnea']\n",
        "\n",
        "# Train-test split\n",
        "X_train, X_test, y_train, y_test = train_test_split(X, y, test_size=0.2, random_state=42)\n",
        "\n",
        "# Scale numerical features\n",
        "scaler = StandardScaler()\n",
        "X_train_scaled = scaler.fit_transform(X_train)\n",
        "X_test_scaled = scaler.transform(X_test)"
      ],
      "metadata": {
        "id": "BsZZUyKEZ3G3"
      },
      "id": "BsZZUyKEZ3G3",
      "execution_count": null,
      "outputs": []
    },
    {
      "cell_type": "markdown",
      "source": [
        "# 8. Data Modeling ⚙️\n",
        "\n",
        "Train multiple machine learning models:"
      ],
      "metadata": {
        "id": "Av0xVVRHZ4xD"
      },
      "id": "Av0xVVRHZ4xD"
    },
    {
      "cell_type": "code",
      "source": [
        "# Initialize models\n",
        "rf = RandomForestClassifier(random_state=42)\n",
        "lr = LogisticRegression(random_state=42, max_iter=1000)\n",
        "svm = SVC(random_state=42)\n",
        "xgb = XGBClassifier(random_state=42)\n",
        "\n",
        "# Train models\n",
        "rf.fit(X_train_scaled, y_train)\n",
        "lr.fit(X_train_scaled, y_train)\n",
        "svm.fit(X_train_scaled, y_train)\n",
        "xgb.fit(X_train_scaled, y_train)"
      ],
      "metadata": {
        "id": "fklZ3Qd-Z8FQ"
      },
      "id": "fklZ3Qd-Z8FQ",
      "execution_count": null,
      "outputs": []
    },
    {
      "cell_type": "markdown",
      "source": [
        "# 9. Models Evaluation 📝\n",
        "\n",
        "Evaluate models using accuracy and confusion matrix:"
      ],
      "metadata": {
        "id": "EK9HRSJQZ9bW"
      },
      "id": "EK9HRSJQZ9bW"
    },
    {
      "cell_type": "code",
      "source": [
        "# Predictions\n",
        "rf_pred = rf.predict(X_test_scaled)\n",
        "lr_pred = lr.predict(X_test_scaled)\n",
        "svm_pred = svm.predict(X_test_scaled)\n",
        "xgb_pred = xgb.predict(X_test_scaled)\n",
        "\n",
        "# Accuracy\n",
        "print(\"Random Forest Accuracy:\", accuracy_score(y_test, rf_pred))\n",
        "print(\"Logistic Regression Accuracy:\", accuracy_score(y_test, lr_pred))\n",
        "print(\"SVM Accuracy:\", accuracy_score(y_test, svm_pred))\n",
        "print(\"XGBoost Accuracy:\", accuracy_score(y_test, xgb_pred))\n",
        "\n",
        "# Confusion Matrix for XGBoost\n",
        "cm = confusion_matrix(y_test, xgb_pred)\n",
        "sns.heatmap(cm, annot=True, fmt='d', cmap='Blues')\n",
        "plt.title(\"XGBoost Confusion Matrix\")\n",
        "plt.xlabel(\"Predicted\")\n",
        "plt.ylabel(\"Actual\")\n",
        "plt.show()"
      ],
      "metadata": {
        "id": "UGov-YH1aAxx"
      },
      "id": "UGov-YH1aAxx",
      "execution_count": null,
      "outputs": []
    },
    {
      "cell_type": "markdown",
      "source": [
        "# 10. Interpretation of One Model 🏆\n",
        "Interpret the XGBoost model using SHAP:"
      ],
      "metadata": {
        "id": "BiC1x7UNaCbp"
      },
      "id": "BiC1x7UNaCbp"
    },
    {
      "cell_type": "code",
      "source": [
        "# SHAP interpretation for XGBoost\n",
        "explainer = shap.TreeExplainer(xgb)\n",
        "shap_values = explainer.shap_values(X_test_scaled)\n",
        "shap.summary_plot(shap_values, X_test_scaled, feature_names=X.columns)"
      ],
      "metadata": {
        "id": "g4vQwvxaaFNv"
      },
      "id": "g4vQwvxaaFNv",
      "execution_count": null,
      "outputs": []
    },
    {
      "cell_type": "markdown",
      "source": [
        "---"
      ],
      "metadata": {
        "id": "BPI_ssLNarzS"
      },
      "id": "BPI_ssLNarzS"
    },
    {
      "cell_type": "markdown",
      "source": [
        "# Key Changes and Notes 🔐\n",
        "\n",
        "The purpose remains largely unchanged but is updated to reflect the new variables:\n",
        "<div style='border: 3px solid lightblue; background-color:#EBDEF0; color:black; padding:10px'>\n",
        "\n",
        "🔘 **Dataset:** The original dataset (enhanced_full_sleep_apnea_dataset.csv) is replaced with a new CSV containing only the specified 24 variables (adjusted to 22 features + target due to redundancy).\n",
        "\n",
        "🔘 **Features:** Subject Occupation is excluded as it duplicates Occupation. Mean_Apnea_Duration is included despite potential data leakage concerns, as specified by the query, with missing values filled as 0.\n",
        "\n",
        "🔘 **Preprocessing:** Categorical variables are one-hot encoded, numerical variables are scaled, and the target is label-encoded (assuming binary: Yes/No)..\n",
        "\n",
        "🔘 **EDA:** Updated to reflect the new variables with appropriate visualizations.\n",
        "\n",
        "🔘 **Modeling:** Retained the original models (Random Forest, Logistic Regression, SVM, XGBoost) for consistency..\n",
        "\n",
        "</div>"
      ],
      "metadata": {
        "id": "xXVdpLBwaG05"
      },
      "id": "xXVdpLBwaG05"
    },
    {
      "cell_type": "markdown",
      "source": [
        "---\n",
        "---"
      ],
      "metadata": {
        "id": "KDQmzEuiaoz5"
      },
      "id": "KDQmzEuiaoz5"
    }
  ],
  "metadata": {
    "kernelspec": {
      "display_name": "Python 3",
      "language": "python",
      "name": "python3"
    },
    "language_info": {
      "codemirror_mode": {
        "name": "ipython",
        "version": 3
      },
      "file_extension": ".py",
      "mimetype": "text/x-python",
      "name": "python",
      "nbconvert_exporter": "python",
      "pygments_lexer": "ipython3",
      "version": "3.10.12"
    },
    "papermill": {
      "default_parameters": {},
      "duration": 64.824267,
      "end_time": "2023-08-22T00:01:52.663875",
      "environment_variables": {},
      "exception": null,
      "input_path": "__notebook__.ipynb",
      "output_path": "__notebook__.ipynb",
      "parameters": {},
      "start_time": "2023-08-22T00:00:47.839608",
      "version": "2.4.0"
    },
    "colab": {
      "provenance": [],
      "include_colab_link": true
    }
  },
  "nbformat": 4,
  "nbformat_minor": 5
}